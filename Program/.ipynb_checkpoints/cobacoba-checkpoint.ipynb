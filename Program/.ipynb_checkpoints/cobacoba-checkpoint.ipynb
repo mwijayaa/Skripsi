{
 "cells": [
  {
   "cell_type": "code",
   "execution_count": null,
   "metadata": {},
   "outputs": [],
   "source": [
    "%matplotlib inline\n",
    "\n",
    "import glob\n",
    "import os\n",
    "import numpy as np\n",
    "from skimage import io, segmentation, color\n",
    "\n",
    "path = 'img/'\n",
    "aFile = []\n",
    "\n",
    "for filename in glob.glob(os.path.join(path, '*.jpg')):\n",
    "    aFile.append(filename)\n",
    "    \n",
    "for i in range(0,25):\n",
    "    img = io.imread(aFile[i])\n",
    "    # minsize 100 = 1, 110=2, 120=1, 130=1,140=1, 150\n",
    "    labels = segmentation.felzenszwalb(img, min_size=150 )\n",
    "    labels.astype(int)\n",
    "    out1 = color.label2rgb(labels, img, kind='overlay')\n",
    "    # print(\"Felzenszwalb number of segments: {}\".format(len(np.unique(labels))))\n",
    "    name = 'img{}.csv'.format(i+1)\n",
    "    # print(name)\n",
    "    path = 'labels/'+name\n",
    "    # np.savetxt(path, labels, delimiter=\",\")\n",
    "    \n",
    "image = io.imread(aFile[0])\n",
    "# down_cost = np.sqrt(np.sum((image[1:, :, :] - image[:-1, :, :])\n",
    "#     \t*(image[1:, :, :] - image[:-1, :, :]), axis=-1))\n",
    "\n",
    "# image[1:], elemen pertama dilewat | mulai dari data ke 1\n",
    "# image[:-1], elemen terakhir dilewat | dikahiri data ke akhir-1\n",
    "# axis =-1, menjumlah dlm array yg sama\n",
    "# print(image[:-1,:,:])\n",
    "# np.set_printoptions(threshold=np.inf)\n",
    "# b = np.reshape(labels,(32,32))\n",
    "# print(labels)\n",
    "\n",
    "# print(image.shape[:2])"
   ]
  }
 ],
 "metadata": {
  "kernelspec": {
   "display_name": "Python 2",
   "language": "python",
   "name": "python2"
  }
 },
 "nbformat": 4,
 "nbformat_minor": 2
}
