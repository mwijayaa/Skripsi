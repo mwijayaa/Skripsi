{
 "cells": [
  {
   "cell_type": "code",
   "execution_count": 1,
   "metadata": {},
   "outputs": [],
   "source": [
    "%matplotlib inline"
   ]
  },
  {
   "cell_type": "markdown",
   "metadata": {},
   "source": [
    "# Pengenalan citra digital berbasis graph menggunakan metode graph matching"
   ]
  },
  {
   "cell_type": "markdown",
   "metadata": {},
   "source": [
    "## 1. Segmentasi Felzenzswalb\n",
    "## 2. Ekstraksi Fitur Region Adjacency Graph Mean Colors\n",
    "## 3.  Graph matching\n",
    "### - Exact Matching : VF2 Algorithm\n",
    "### - Inexact Matching : Graph Edit Distance"
   ]
  },
  {
   "cell_type": "markdown",
   "metadata": {},
   "source": [
    "## Memasukan gambar\n",
    "program di bawah akan melakukan input gambar menggunakan modul skimage dan melakukan imshow menggunakan modul matplotlib"
   ]
  },
  {
   "cell_type": "code",
   "execution_count": 5,
   "metadata": {},
   "outputs": [
    {
     "data": {
      "image/png": "[encoded data removed]",
      "text/plain": [
       "<matplotlib.figure.Figure at 0x119c6090>"
      ]
     },
     "metadata": {},
     "output_type": "display_data"
    }
   ],
   "source": [
    "from skimage import io \n",
    "import matplotlib.pyplot as plt\n",
    "import numpy as np\n",
    "\n",
    "\n",
    "img = io.imread('img\\img003.jpg')\n",
    "# print(img) # print nilai image original\n",
    "plt.imshow(img)\n",
    "plt.show()\n"
   ]
  },
  {
   "cell_type": "markdown",
   "metadata": {},
   "source": [
    "## Segmentasi citra menjadi region-region"
   ]
  },
  {
   "cell_type": "markdown",
   "metadata": {},
   "source": [
    "Segmentasi ini dilakukan menggunakan metode Felzenszwalb. diambil dari library skimage"
   ]
  },
  {
   "cell_type": "code",
   "execution_count": 6,
   "metadata": {},
   "outputs": [
    {
     "name": "stdout",
     "output_type": "stream",
     "text": [
      "Felzenszwalb number of segments: 2\n"
     ]
    },
    {
     "data": {
      "image/png": "[encoded data removed]",
      "text/plain": [
       "<matplotlib.figure.Figure at 0x11ac3330>"
      ]
     },
     "metadata": {},
     "output_type": "display_data"
    }
   ],
   "source": [
    "from skimage import segmentation, color\n",
    "\n",
    "# operasi segmentasi felzenszwalb\n",
    "labels = segmentation.felzenszwalb(img, min_size=350)\n",
    "# print(labels) # print nilai-nilai region hasil segmentasi\n",
    "\n",
    "# mewarnai labels, bisa 'overlay'=acak atau 'average'=mengikuti gambar\n",
    "out1 = color.label2rgb(labels, img, kind='overlay')\n",
    "\n",
    "# print shape dari labels\n",
    "# print(labels.shape)\n",
    "\n",
    "# menemukan nilai unik dari matriks sehingga didapat jumlah region\n",
    "print(\"Felzenszwalb number of segments: {}\".format(len(np.unique(labels))))\n",
    "\n",
    "# normalisasi nilai gambar\n",
    "# un = len(np.unique(labels))-1\n",
    "# im = labels/un*255\n",
    "\n",
    "# mengubah array menjadi Image\n",
    "# im = Image.fromarray(im)\n",
    "# print(im)\n",
    "\n",
    "# untuk ngecek value dari matriks\n",
    "# np.savetxt('dimage.txt', labels.astype(int))\n",
    "\n",
    "# show image melalui matplotlib\n",
    "plt.imshow(out1)\n",
    "plt.show()"
   ]
  },
  {
   "cell_type": "markdown",
   "metadata": {},
   "source": [
    "## Pembuatan Region Adjacency Graph\n",
    "\n",
    "Langkah ini membangun RAG dari label image yang telah tersegmentasi"
   ]
  },
  {
   "cell_type": "code",
   "execution_count": 7,
   "metadata": {},
   "outputs": [
    {
     "data": {
      "image/png": "[encoded data removed]",
      "text/plain": [
       "<matplotlib.figure.Figure at 0x11e76b70>"
      ]
     },
     "metadata": {},
     "output_type": "display_data"
    },
    {
     "name": "stdout",
     "output_type": "stream",
     "text": [
      "\n",
      "Nodes yang terbentuk, centroidnya, dan mean color :\n",
      "\n",
      "[(0, {'total color': array([ 897600.,  897600.,  897600.]), 'centroid': (30, 33), 'labels': [0], 'mean color': array([ 255.,  255.,  255.]), 'pixel count': 3520}), (1, {'total color': array([  2.40000000e+01,   0.00000000e+00,   1.46304000e+05]), 'centroid': (35, 18), 'labels': [1], 'mean color': array([  4.16666667e-02,   0.00000000e+00,   2.54000000e+02]), 'pixel count': 576})]\n",
      "[(0, {'total color': array([ 897600.,  897600.,  897600.]), 'centroid': (30, 33), 'labels': [0], 'mean color': array([ 255.,  255.,  255.]), 'pixel count': 3520}), (1, {'total color': array([  2.40000000e+01,   0.00000000e+00,   1.46304000e+05]), 'centroid': (35, 18), 'labels': [1], 'mean color': array([  4.16666667e-02,   0.00000000e+00,   2.54000000e+02]), 'pixel count': 576})]\n",
      "\n",
      "Edges yang terbentuk:\n",
      "\n",
      "[(0, 1)]\n",
      "\n",
      "weight dari edges :\n",
      "\n",
      "edge[0][1] = 360\n",
      "<class 'skimage.future.graph.rag.RAG'>\n"
     ]
    }
   ],
   "source": [
    "from skimage.future import graph\n",
    "\n",
    "# menghitung rag dari melalui variabel citra original dan labels\n",
    "g =  graph.rag_mean_color(img, labels, connectivity=1, mode='distance')\n",
    "\n",
    "# mendapatkan nilai <matplotlib> dari graph 'rag' untuk kemudian ditampilkan\n",
    "gshow = graph.show_rag(labels,g,img,edge_cmap='viridis',img_cmap='magma',edge_width=3)\n",
    "\n",
    "# memberikan colorbar citra\n",
    "# cbar = plt.colorbar(gshow)\n",
    "\n",
    "plt.show()\n",
    "\n",
    "print('\\nNodes yang terbentuk, centroidnya, dan mean color :\\n')\n",
    "print(g.nodes('centroid'))\n",
    "print(g.nodes('mean color'))\n",
    "\n",
    "print('\\nEdges yang terbentuk:\\n')\n",
    "print(g.edges())\n",
    "\n",
    "# nilai weight diambil dari eucledian distance |c1 - c2| = sqrt(sum((c1meancolor - c2meancolor)^2))\n",
    "print '\\nweight dari edges :\\n'\n",
    "for a, x in g.edges():\n",
    "    w = int(g[a][x]['weight'])\n",
    "    print (\"edge[%d][%d] = %d\" % (a,x,w))\n",
    "    \n",
    "print(type(g))"
   ]
  },
  {
   "cell_type": "markdown",
   "metadata": {},
   "source": [
    "## Percobaan input 2 citra"
   ]
  },
  {
   "cell_type": "code",
   "execution_count": 52,
   "metadata": {},
   "outputs": [
    {
     "data": {
      "image/png": "[encoded data removed]",
      "text/plain": [
       "<matplotlib.figure.Figure at 0x12784950>"
      ]
     },
     "metadata": {},
     "output_type": "display_data"
    },
    {
     "data": {
      "image/png": "[encoded data removed]",
      "text/plain": [
       "<matplotlib.figure.Figure at 0x129a31b0>"
      ]
     },
     "metadata": {},
     "output_type": "display_data"
    },
    {
     "name": "stdout",
     "output_type": "stream",
     "text": [
      "Segmen dari gambar 1 adalah : 2\n",
      "Segmen dari gambar 2 adalah : 2\n",
      "[0, 1]\n",
      "[(0, 1)]\n"
     ]
    }
   ],
   "source": [
    "img1 = io.imread('img\\img001.jpg')\n",
    "img2 = io.imread('img\\img011.jpg')\n",
    "\n",
    "label1 = segmentation.felzenszwalb(img1, scale=3.0, min_size=350)\n",
    "label2 = segmentation.felzenszwalb(img2, scale=3.0, min_size=350)\n",
    "\n",
    "g1 =  graph.rag_mean_color(img1, label1, mode='distance')\n",
    "g2 =  graph.rag_mean_color(img2, label2, mode='distance')\n",
    "\n",
    "gshow1 = graph.show_rag(label1,g1,img1,edge_cmap='viridis',img_cmap='magma',edge_width=3)\n",
    "gshow2 = graph.show_rag(label2,g2,img2,edge_cmap='viridis',img_cmap='magma',edge_width=3)\n",
    "\n",
    "plt.show()\n",
    "print(\"Segmen dari gambar 1 adalah : {}\".format(len(np.unique(label1))))\n",
    "print(\"Segmen dari gambar 2 adalah : {}\".format(len(np.unique(label2))))\n",
    "\n",
    "print(g1.nodes())\n",
    "print(g1.edges())"
   ]
  },
  {
   "cell_type": "markdown",
   "metadata": {},
   "source": [
    "### Menyimpan nilai-nilai graph dalam variabel"
   ]
  },
  {
   "cell_type": "code",
   "execution_count": 53,
   "metadata": {},
   "outputs": [],
   "source": [
    "# fungsi untuk memasukkan nilai graph ke dalam satu variabel\n",
    "\n",
    "def graphVar(g1):\n",
    "\n",
    "    _node = g1.nodes()\n",
    "    \n",
    "    mean_color = []\n",
    "    for node in g1.nodes('mean color'):\n",
    "        mean_color += [node[1]]\n",
    "\n",
    "    edge = []\n",
    "    n = 0\n",
    "    for a, b in g1.edges():\n",
    "        w = int(g1[a][b]['weight'])\n",
    "        edge += [{\n",
    "            'edge': n,\n",
    "            'first_node':a,\n",
    "            'last_node':b,\n",
    "            'weight':w\n",
    "        }]\n",
    "        n += 1\n",
    "\n",
    "\n",
    "    graph1={'nodes':_node,'mean_color':mean_color, 'edge':edge}\n",
    "    \n",
    "    return graph1"
   ]
  },
  {
   "cell_type": "markdown",
   "metadata": {},
   "source": [
    "#### --------main----------\n",
    "Memasukkan nilai dictionary masing-masing graph ke dalam sebuah variabel,\n",
    "melalui pemanggilan fungsi graphVar()"
   ]
  },
  {
   "cell_type": "code",
   "execution_count": 54,
   "metadata": {},
   "outputs": [
    {
     "name": "stdout",
     "output_type": "stream",
     "text": [
      "Graph 1 :\n",
      "\n",
      "{   'edge': [{   'edge': 0, 'first_node': 0, 'last_node': 1, 'weight': 260}],\n",
      "    'mean_color': [   {   'centroid': (33, 33),\n",
      "                          'labels': [0],\n",
      "                          'mean color': array([ 254.96818182,  254.98238636,  254.95909091]),\n",
      "                          'pixel count': 3520,\n",
      "                          'total color': array([ 897488.,  897538.,  897456.])},\n",
      "                      {   'centroid': (20, 17),\n",
      "                          'labels': [1],\n",
      "                          'mean color': array([  75.41840278,   66.49131944,  252.23784722]),\n",
      "                          'pixel count': 576,\n",
      "                          'total color': array([  43441.,   38299.,  145289.])}],\n",
      "    'nodes': [0, 1]}\n",
      "\n",
      "Graph 2 :\n",
      "\n",
      "{   'edge': [{   'edge': 0, 'first_node': 0, 'last_node': 1, 'weight': 360}],\n",
      "    'mean_color': [   {   'centroid': (33, 29),\n",
      "                          'labels': [0],\n",
      "                          'mean color': array([ 254.97471591,  254.98607955,  254.97272727]),\n",
      "                          'pixel count': 3520,\n",
      "                          'total color': array([ 897511.,  897551.,  897504.])},\n",
      "                      {   'centroid': (17, 45),\n",
      "                          'labels': [1],\n",
      "                          'mean color': array([  2.54000000e+02,   3.29861111e-02,   4.16666667e-02]),\n",
      "                          'pixel count': 576,\n",
      "                          'total color': array([  1.46304000e+05,   1.90000000e+01,   2.40000000e+01])}],\n",
      "    'nodes': [0, 1]}\n"
     ]
    }
   ],
   "source": [
    "import pprint\n",
    "\n",
    "# masukan nilai g1 dan g2 ke dalam variable baru\n",
    "graph1 = graphVar(g1)\n",
    "graph2 = graphVar(g2)\n",
    "\n",
    "# print dictionary dengan prety print\n",
    "\n",
    "pp = pprint.PrettyPrinter(indent=4)\n",
    "\n",
    "print('Graph 1 :\\n')\n",
    "pp.pprint(graph1)\n",
    "print('\\nGraph 2 :\\n')\n",
    "pp.pprint(graph2)"
   ]
  },
  {
   "cell_type": "markdown",
   "metadata": {},
   "source": [
    "## Exact Graph Matching menggunakan Algoritma VF2\n",
    "Algoritma ini akan melakukan pencocokan setiap node pada graph melalui sifat isomorphism. Algoritma ini bekerja tanpa memperhatikan nilai atribut pada masing-masing node dan edge"
   ]
  },
  {
   "cell_type": "code",
   "execution_count": 55,
   "metadata": {},
   "outputs": [
    {
     "name": "stdout",
     "output_type": "stream",
     "text": [
      "True\n",
      "{0: 0, 1: 1}\n"
     ]
    }
   ],
   "source": [
    "from networkx.algorithms import isomorphism\n",
    "\n",
    "gm = isomorphism.GraphMatcher(g1,g2)\n",
    "print(gm.is_isomorphic())\n",
    "print(gm.mapping)"
   ]
  },
  {
   "cell_type": "markdown",
   "metadata": {},
   "source": [
    "## Save dan Open graph dengan gpickle\n",
    "Menyimpan sebuah graph dalam bentuk file"
   ]
  },
  {
   "cell_type": "code",
   "execution_count": 56,
   "metadata": {},
   "outputs": [
    {
     "name": "stdout",
     "output_type": "stream",
     "text": [
      "[0, 1]\n",
      "[(0, 1)]\n"
     ]
    }
   ],
   "source": [
    "import networkx as nx\n",
    "\n",
    "nx.write_gpickle(g1, 'graph\\img001.gpickle')\n",
    "gx = nx.read_gpickle('graph\\img001.gpickle')\n",
    "print(gx.nodes())\n",
    "print(gx.edges())"
   ]
  },
  {
   "cell_type": "markdown",
   "metadata": {},
   "source": [
    "## Inexact Graph Matching menggunakan Graph Edit Distance"
   ]
  },
  {
   "cell_type": "code",
   "execution_count": 64,
   "metadata": {},
   "outputs": [
    {
     "name": "stdout",
     "output_type": "stream",
     "text": [
      "0.5\n"
     ]
    }
   ],
   "source": [
    "def setWeight(g):\n",
    "    for n in g.nodes():\n",
    "        g.node[n]['weight'] = np.round(np.mean(g.node[n]['mean color']))\n",
    "    \n",
    "\n",
    "from ged4py.algorithm import graph_edit_dist\n",
    "\n",
    "# c1 = g1\n",
    "# c2 = g2\n",
    "# setWeight(c1)\n",
    "# setWeight(c2)\n",
    "\n",
    "# print('\\ngraph g\\n')\n",
    "# print(c1.nodes())\n",
    "# print(c1.edges())\n",
    "# for n in c1.nodes():\n",
    "#     print(c1.node[n]['weight'])\n",
    "# print('\\n')\n",
    "# print(c1.edges(data=True))\n",
    "# print('\\n')\n",
    "# print(c2.nodes())\n",
    "# print(c2.edges())\n",
    "# for n in c2.nodes():\n",
    "#     print(c2.node[n]['weight'])\n",
    "# print('\\n')\n",
    "# print(c2.edges(data=True))\n",
    "\n",
    "# print('\\nEdit Distance')\n",
    "\n",
    "g = nx.Graph()\n",
    "g.add_edge('A','B')\n",
    "g.add_node('C')\n",
    "g.add_node('D')\n",
    "g2=g.copy()\n",
    "g.add_edge('A','C',weight=5)\n",
    "\n",
    "print(graph_edit_dist.compare(g,g2))"
   ]
  },
  {
   "cell_type": "code",
   "execution_count": null,
   "metadata": {},
   "outputs": [],
   "source": []
  }
 ],
 "metadata": {
  "kernelspec": {
   "display_name": "Python 2",
   "language": "python",
   "name": "python2"
  },
  "language_info": {
   "codemirror_mode": {
    "name": "ipython",
    "version": 2
   },
   "file_extension": ".py",
   "mimetype": "text/x-python",
   "name": "python",
   "nbconvert_exporter": "python",
   "pygments_lexer": "ipython2",
   "version": "2.7.13"
  }
 },
 "nbformat": 4,
 "nbformat_minor": 2
}
